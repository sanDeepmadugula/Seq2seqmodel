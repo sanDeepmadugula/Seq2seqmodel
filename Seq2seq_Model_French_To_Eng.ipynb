{
  "nbformat": 4,
  "nbformat_minor": 0,
  "metadata": {
    "colab": {
      "name": "Seq2seq Model French To Eng.ipynb",
      "version": "0.3.2",
      "provenance": []
    },
    "kernelspec": {
      "name": "python3",
      "display_name": "Python 3"
    },
    "accelerator": "GPU"
  },
  "cells": [
    {
      "cell_type": "code",
      "metadata": {
        "id": "Mww7nIF9PtnO",
        "colab_type": "code",
        "colab": {
          "resources": {
            "http://localhost:8080/nbextensions/google.colab/files.js": {
              "data": "Ly8gQ29weXJpZ2h0IDIwMTcgR29vZ2xlIExMQwovLwovLyBMaWNlbnNlZCB1bmRlciB0aGUgQXBhY2hlIExpY2Vuc2UsIFZlcnNpb24gMi4wICh0aGUgIkxpY2Vuc2UiKTsKLy8geW91IG1heSBub3QgdXNlIHRoaXMgZmlsZSBleGNlcHQgaW4gY29tcGxpYW5jZSB3aXRoIHRoZSBMaWNlbnNlLgovLyBZb3UgbWF5IG9idGFpbiBhIGNvcHkgb2YgdGhlIExpY2Vuc2UgYXQKLy8KLy8gICAgICBodHRwOi8vd3d3LmFwYWNoZS5vcmcvbGljZW5zZXMvTElDRU5TRS0yLjAKLy8KLy8gVW5sZXNzIHJlcXVpcmVkIGJ5IGFwcGxpY2FibGUgbGF3IG9yIGFncmVlZCB0byBpbiB3cml0aW5nLCBzb2Z0d2FyZQovLyBkaXN0cmlidXRlZCB1bmRlciB0aGUgTGljZW5zZSBpcyBkaXN0cmlidXRlZCBvbiBhbiAiQVMgSVMiIEJBU0lTLAovLyBXSVRIT1VUIFdBUlJBTlRJRVMgT1IgQ09ORElUSU9OUyBPRiBBTlkgS0lORCwgZWl0aGVyIGV4cHJlc3Mgb3IgaW1wbGllZC4KLy8gU2VlIHRoZSBMaWNlbnNlIGZvciB0aGUgc3BlY2lmaWMgbGFuZ3VhZ2UgZ292ZXJuaW5nIHBlcm1pc3Npb25zIGFuZAovLyBsaW1pdGF0aW9ucyB1bmRlciB0aGUgTGljZW5zZS4KCi8qKgogKiBAZmlsZW92ZXJ2aWV3IEhlbHBlcnMgZm9yIGdvb2dsZS5jb2xhYiBQeXRob24gbW9kdWxlLgogKi8KKGZ1bmN0aW9uKHNjb3BlKSB7CmZ1bmN0aW9uIHNwYW4odGV4dCwgc3R5bGVBdHRyaWJ1dGVzID0ge30pIHsKICBjb25zdCBlbGVtZW50ID0gZG9jdW1lbnQuY3JlYXRlRWxlbWVudCgnc3BhbicpOwogIGVsZW1lbnQudGV4dENvbnRlbnQgPSB0ZXh0OwogIGZvciAoY29uc3Qga2V5IG9mIE9iamVjdC5rZXlzKHN0eWxlQXR0cmlidXRlcykpIHsKICAgIGVsZW1lbnQuc3R5bGVba2V5XSA9IHN0eWxlQXR0cmlidXRlc1trZXldOwogIH0KICByZXR1cm4gZWxlbWVudDsKfQoKLy8gTWF4IG51bWJlciBvZiBieXRlcyB3aGljaCB3aWxsIGJlIHVwbG9hZGVkIGF0IGEgdGltZS4KY29uc3QgTUFYX1BBWUxPQURfU0laRSA9IDEwMCAqIDEwMjQ7Ci8vIE1heCBhbW91bnQgb2YgdGltZSB0byBibG9jayB3YWl0aW5nIGZvciB0aGUgdXNlci4KY29uc3QgRklMRV9DSEFOR0VfVElNRU9VVF9NUyA9IDMwICogMTAwMDsKCmZ1bmN0aW9uIF91cGxvYWRGaWxlcyhpbnB1dElkLCBvdXRwdXRJZCkgewogIGNvbnN0IHN0ZXBzID0gdXBsb2FkRmlsZXNTdGVwKGlucHV0SWQsIG91dHB1dElkKTsKICBjb25zdCBvdXRwdXRFbGVtZW50ID0gZG9jdW1lbnQuZ2V0RWxlbWVudEJ5SWQob3V0cHV0SWQpOwogIC8vIENhY2hlIHN0ZXBzIG9uIHRoZSBvdXRwdXRFbGVtZW50IHRvIG1ha2UgaXQgYXZhaWxhYmxlIGZvciB0aGUgbmV4dCBjYWxsCiAgLy8gdG8gdXBsb2FkRmlsZXNDb250aW51ZSBmcm9tIFB5dGhvbi4KICBvdXRwdXRFbGVtZW50LnN0ZXBzID0gc3RlcHM7CgogIHJldHVybiBfdXBsb2FkRmlsZXNDb250aW51ZShvdXRwdXRJZCk7Cn0KCi8vIFRoaXMgaXMgcm91Z2hseSBhbiBhc3luYyBnZW5lcmF0b3IgKG5vdCBzdXBwb3J0ZWQgaW4gdGhlIGJyb3dzZXIgeWV0KSwKLy8gd2hlcmUgdGhlcmUgYXJlIG11bHRpcGxlIGFzeW5jaHJvbm91cyBzdGVwcyBhbmQgdGhlIFB5dGhvbiBzaWRlIGlzIGdvaW5nCi8vIHRvIHBvbGwgZm9yIGNvbXBsZXRpb24gb2YgZWFjaCBzdGVwLgovLyBUaGlzIHVzZXMgYSBQcm9taXNlIHRvIGJsb2NrIHRoZSBweXRob24gc2lkZSBvbiBjb21wbGV0aW9uIG9mIGVhY2ggc3RlcCwKLy8gdGhlbiBwYXNzZXMgdGhlIHJlc3VsdCBvZiB0aGUgcHJldmlvdXMgc3RlcCBhcyB0aGUgaW5wdXQgdG8gdGhlIG5leHQgc3RlcC4KZnVuY3Rpb24gX3VwbG9hZEZpbGVzQ29udGludWUob3V0cHV0SWQpIHsKICBjb25zdCBvdXRwdXRFbGVtZW50ID0gZG9jdW1lbnQuZ2V0RWxlbWVudEJ5SWQob3V0cHV0SWQpOwogIGNvbnN0IHN0ZXBzID0gb3V0cHV0RWxlbWVudC5zdGVwczsKCiAgY29uc3QgbmV4dCA9IHN0ZXBzLm5leHQob3V0cHV0RWxlbWVudC5sYXN0UHJvbWlzZVZhbHVlKTsKICByZXR1cm4gUHJvbWlzZS5yZXNvbHZlKG5leHQudmFsdWUucHJvbWlzZSkudGhlbigodmFsdWUpID0+IHsKICAgIC8vIENhY2hlIHRoZSBsYXN0IHByb21pc2UgdmFsdWUgdG8gbWFrZSBpdCBhdmFpbGFibGUgdG8gdGhlIG5leHQKICAgIC8vIHN0ZXAgb2YgdGhlIGdlbmVyYXRvci4KICAgIG91dHB1dEVsZW1lbnQubGFzdFByb21pc2VWYWx1ZSA9IHZhbHVlOwogICAgcmV0dXJuIG5leHQudmFsdWUucmVzcG9uc2U7CiAgfSk7Cn0KCi8qKgogKiBHZW5lcmF0b3IgZnVuY3Rpb24gd2hpY2ggaXMgY2FsbGVkIGJldHdlZW4gZWFjaCBhc3luYyBzdGVwIG9mIHRoZSB1cGxvYWQKICogcHJvY2Vzcy4KICogQHBhcmFtIHtzdHJpbmd9IGlucHV0SWQgRWxlbWVudCBJRCBvZiB0aGUgaW5wdXQgZmlsZSBwaWNrZXIgZWxlbWVudC4KICogQHBhcmFtIHtzdHJpbmd9IG91dHB1dElkIEVsZW1lbnQgSUQgb2YgdGhlIG91dHB1dCBkaXNwbGF5LgogKiBAcmV0dXJuIHshSXRlcmFibGU8IU9iamVjdD59IEl0ZXJhYmxlIG9mIG5leHQgc3RlcHMuCiAqLwpmdW5jdGlvbiogdXBsb2FkRmlsZXNTdGVwKGlucHV0SWQsIG91dHB1dElkKSB7CiAgY29uc3QgaW5wdXRFbGVtZW50ID0gZG9jdW1lbnQuZ2V0RWxlbWVudEJ5SWQoaW5wdXRJZCk7CiAgaW5wdXRFbGVtZW50LmRpc2FibGVkID0gZmFsc2U7CgogIGNvbnN0IG91dHB1dEVsZW1lbnQgPSBkb2N1bWVudC5nZXRFbGVtZW50QnlJZChvdXRwdXRJZCk7CiAgb3V0cHV0RWxlbWVudC5pbm5lckhUTUwgPSAnJzsKCiAgY29uc3QgcGlja2VkUHJvbWlzZSA9IG5ldyBQcm9taXNlKChyZXNvbHZlKSA9PiB7CiAgICBpbnB1dEVsZW1lbnQuYWRkRXZlbnRMaXN0ZW5lcignY2hhbmdlJywgKGUpID0+IHsKICAgICAgcmVzb2x2ZShlLnRhcmdldC5maWxlcyk7CiAgICB9KTsKICB9KTsKCiAgY29uc3QgY2FuY2VsID0gZG9jdW1lbnQuY3JlYXRlRWxlbWVudCgnYnV0dG9uJyk7CiAgaW5wdXRFbGVtZW50LnBhcmVudEVsZW1lbnQuYXBwZW5kQ2hpbGQoY2FuY2VsKTsKICBjYW5jZWwudGV4dENvbnRlbnQgPSAnQ2FuY2VsIHVwbG9hZCc7CiAgY29uc3QgY2FuY2VsUHJvbWlzZSA9IG5ldyBQcm9taXNlKChyZXNvbHZlKSA9PiB7CiAgICBjYW5jZWwub25jbGljayA9ICgpID0+IHsKICAgICAgcmVzb2x2ZShudWxsKTsKICAgIH07CiAgfSk7CgogIC8vIENhbmNlbCB1cGxvYWQgaWYgdXNlciBoYXNuJ3QgcGlja2VkIGFueXRoaW5nIGluIHRpbWVvdXQuCiAgY29uc3QgdGltZW91dFByb21pc2UgPSBuZXcgUHJvbWlzZSgocmVzb2x2ZSkgPT4gewogICAgc2V0VGltZW91dCgoKSA9PiB7CiAgICAgIHJlc29sdmUobnVsbCk7CiAgICB9LCBGSUxFX0NIQU5HRV9USU1FT1VUX01TKTsKICB9KTsKCiAgLy8gV2FpdCBmb3IgdGhlIHVzZXIgdG8gcGljayB0aGUgZmlsZXMuCiAgY29uc3QgZmlsZXMgPSB5aWVsZCB7CiAgICBwcm9taXNlOiBQcm9taXNlLnJhY2UoW3BpY2tlZFByb21pc2UsIHRpbWVvdXRQcm9taXNlLCBjYW5jZWxQcm9taXNlXSksCiAgICByZXNwb25zZTogewogICAgICBhY3Rpb246ICdzdGFydGluZycsCiAgICB9CiAgfTsKCiAgaWYgKCFmaWxlcykgewogICAgcmV0dXJuIHsKICAgICAgcmVzcG9uc2U6IHsKICAgICAgICBhY3Rpb246ICdjb21wbGV0ZScsCiAgICAgIH0KICAgIH07CiAgfQoKICBjYW5jZWwucmVtb3ZlKCk7CgogIC8vIERpc2FibGUgdGhlIGlucHV0IGVsZW1lbnQgc2luY2UgZnVydGhlciBwaWNrcyBhcmUgbm90IGFsbG93ZWQuCiAgaW5wdXRFbGVtZW50LmRpc2FibGVkID0gdHJ1ZTsKCiAgZm9yIChjb25zdCBmaWxlIG9mIGZpbGVzKSB7CiAgICBjb25zdCBsaSA9IGRvY3VtZW50LmNyZWF0ZUVsZW1lbnQoJ2xpJyk7CiAgICBsaS5hcHBlbmQoc3BhbihmaWxlLm5hbWUsIHtmb250V2VpZ2h0OiAnYm9sZCd9KSk7CiAgICBsaS5hcHBlbmQoc3BhbigKICAgICAgICBgKCR7ZmlsZS50eXBlIHx8ICduL2EnfSkgLSAke2ZpbGUuc2l6ZX0gYnl0ZXMsIGAgKwogICAgICAgIGBsYXN0IG1vZGlmaWVkOiAkewogICAgICAgICAgICBmaWxlLmxhc3RNb2RpZmllZERhdGUgPyBmaWxlLmxhc3RNb2RpZmllZERhdGUudG9Mb2NhbGVEYXRlU3RyaW5nKCkgOgogICAgICAgICAgICAgICAgICAgICAgICAgICAgICAgICAgICAnbi9hJ30gLSBgKSk7CiAgICBjb25zdCBwZXJjZW50ID0gc3BhbignMCUgZG9uZScpOwogICAgbGkuYXBwZW5kQ2hpbGQocGVyY2VudCk7CgogICAgb3V0cHV0RWxlbWVudC5hcHBlbmRDaGlsZChsaSk7CgogICAgY29uc3QgZmlsZURhdGFQcm9taXNlID0gbmV3IFByb21pc2UoKHJlc29sdmUpID0+IHsKICAgICAgY29uc3QgcmVhZGVyID0gbmV3IEZpbGVSZWFkZXIoKTsKICAgICAgcmVhZGVyLm9ubG9hZCA9IChlKSA9PiB7CiAgICAgICAgcmVzb2x2ZShlLnRhcmdldC5yZXN1bHQpOwogICAgICB9OwogICAgICByZWFkZXIucmVhZEFzQXJyYXlCdWZmZXIoZmlsZSk7CiAgICB9KTsKICAgIC8vIFdhaXQgZm9yIHRoZSBkYXRhIHRvIGJlIHJlYWR5LgogICAgbGV0IGZpbGVEYXRhID0geWllbGQgewogICAgICBwcm9taXNlOiBmaWxlRGF0YVByb21pc2UsCiAgICAgIHJlc3BvbnNlOiB7CiAgICAgICAgYWN0aW9uOiAnY29udGludWUnLAogICAgICB9CiAgICB9OwoKICAgIC8vIFVzZSBhIGNodW5rZWQgc2VuZGluZyB0byBhdm9pZCBtZXNzYWdlIHNpemUgbGltaXRzLiBTZWUgYi82MjExNTY2MC4KICAgIGxldCBwb3NpdGlvbiA9IDA7CiAgICB3aGlsZSAocG9zaXRpb24gPCBmaWxlRGF0YS5ieXRlTGVuZ3RoKSB7CiAgICAgIGNvbnN0IGxlbmd0aCA9IE1hdGgubWluKGZpbGVEYXRhLmJ5dGVMZW5ndGggLSBwb3NpdGlvbiwgTUFYX1BBWUxPQURfU0laRSk7CiAgICAgIGNvbnN0IGNodW5rID0gbmV3IFVpbnQ4QXJyYXkoZmlsZURhdGEsIHBvc2l0aW9uLCBsZW5ndGgpOwogICAgICBwb3NpdGlvbiArPSBsZW5ndGg7CgogICAgICBjb25zdCBiYXNlNjQgPSBidG9hKFN0cmluZy5mcm9tQ2hhckNvZGUuYXBwbHkobnVsbCwgY2h1bmspKTsKICAgICAgeWllbGQgewogICAgICAgIHJlc3BvbnNlOiB7CiAgICAgICAgICBhY3Rpb246ICdhcHBlbmQnLAogICAgICAgICAgZmlsZTogZmlsZS5uYW1lLAogICAgICAgICAgZGF0YTogYmFzZTY0LAogICAgICAgIH0sCiAgICAgIH07CiAgICAgIHBlcmNlbnQudGV4dENvbnRlbnQgPQogICAgICAgICAgYCR7TWF0aC5yb3VuZCgocG9zaXRpb24gLyBmaWxlRGF0YS5ieXRlTGVuZ3RoKSAqIDEwMCl9JSBkb25lYDsKICAgIH0KICB9CgogIC8vIEFsbCBkb25lLgogIHlpZWxkIHsKICAgIHJlc3BvbnNlOiB7CiAgICAgIGFjdGlvbjogJ2NvbXBsZXRlJywKICAgIH0KICB9Owp9CgpzY29wZS5nb29nbGUgPSBzY29wZS5nb29nbGUgfHwge307CnNjb3BlLmdvb2dsZS5jb2xhYiA9IHNjb3BlLmdvb2dsZS5jb2xhYiB8fCB7fTsKc2NvcGUuZ29vZ2xlLmNvbGFiLl9maWxlcyA9IHsKICBfdXBsb2FkRmlsZXMsCiAgX3VwbG9hZEZpbGVzQ29udGludWUsCn07Cn0pKHNlbGYpOwo=",
              "ok": true,
              "headers": [
                [
                  "content-type",
                  "application/javascript"
                ]
              ],
              "status": 200,
              "status_text": ""
            }
          },
          "base_uri": "https://localhost:8080/",
          "height": 91
        },
        "outputId": "7dde504b-83a4-44f2-b64f-56512d8206a1"
      },
      "source": [
        "from google.colab import files\n",
        "\n",
        "uploaded = files.upload()\n",
        "\n",
        "for fn in uploaded.keys():\n",
        "  print('User uploaded file \"{name}\" with length {length} bytes'.format(\n",
        "      name=fn, length=len(uploaded[fn])))"
      ],
      "execution_count": 6,
      "outputs": [
        {
          "output_type": "display_data",
          "data": {
            "text/html": [
              "\n",
              "     <input type=\"file\" id=\"files-f2b48aa5-6545-4206-87e6-d0c989950cb4\" name=\"files[]\" multiple disabled />\n",
              "     <output id=\"result-f2b48aa5-6545-4206-87e6-d0c989950cb4\">\n",
              "      Upload widget is only available when the cell has been executed in the\n",
              "      current browser session. Please rerun this cell to enable.\n",
              "      </output>\n",
              "      <script src=\"/nbextensions/google.colab/files.js\"></script> "
            ],
            "text/plain": [
              "<IPython.core.display.HTML object>"
            ]
          },
          "metadata": {
            "tags": []
          }
        },
        {
          "output_type": "stream",
          "text": [
            "Saving fra.txt to fra.txt\n",
            "User uploaded file \"fra.txt\" with length 10200867 bytes\n"
          ],
          "name": "stdout"
        }
      ]
    },
    {
      "cell_type": "code",
      "metadata": {
        "id": "hygaEAx5QVz9",
        "colab_type": "code",
        "colab": {
          "base_uri": "https://localhost:8080/",
          "height": 34
        },
        "outputId": "c3fc6d75-2a30-419c-f184-b065b860c370"
      },
      "source": [
        "from keras.models import Model\n",
        "from keras.layers import Input, CuDNNLSTM, Dense\n",
        "import numpy as np\n",
        "from numpy.random import seed\n",
        "seed(1)\n",
        "\n",
        "from tensorflow import set_random_seed\n",
        "set_random_seed(2)"
      ],
      "execution_count": 7,
      "outputs": [
        {
          "output_type": "stream",
          "text": [
            "Using TensorFlow backend.\n"
          ],
          "name": "stderr"
        }
      ]
    },
    {
      "cell_type": "code",
      "metadata": {
        "id": "kNebI9uVRtLU",
        "colab_type": "code",
        "colab": {}
      },
      "source": [
        "batch_size = 64\n",
        "epochs = 100\n",
        "num_samples = 10000\n",
        "data = 'fra.txt'"
      ],
      "execution_count": 0,
      "outputs": []
    },
    {
      "cell_type": "code",
      "metadata": {
        "id": "48Ulu7j6R-o4",
        "colab_type": "code",
        "colab": {}
      },
      "source": [
        "import numpy as np\n",
        "import pandas as pd\n",
        "df = pd.read_csv(data,delimiter='\\t')"
      ],
      "execution_count": 0,
      "outputs": []
    },
    {
      "cell_type": "code",
      "metadata": {
        "id": "R2KS0bvKSFVL",
        "colab_type": "code",
        "colab": {
          "base_uri": "https://localhost:8080/",
          "height": 343
        },
        "outputId": "7c4d0f32-3f44-4bb5-c0ee-23d52d29a375"
      },
      "source": [
        "df.head(10)"
      ],
      "execution_count": 10,
      "outputs": [
        {
          "output_type": "execute_result",
          "data": {
            "text/html": [
              "<div>\n",
              "<style scoped>\n",
              "    .dataframe tbody tr th:only-of-type {\n",
              "        vertical-align: middle;\n",
              "    }\n",
              "\n",
              "    .dataframe tbody tr th {\n",
              "        vertical-align: top;\n",
              "    }\n",
              "\n",
              "    .dataframe thead th {\n",
              "        text-align: right;\n",
              "    }\n",
              "</style>\n",
              "<table border=\"1\" class=\"dataframe\">\n",
              "  <thead>\n",
              "    <tr style=\"text-align: right;\">\n",
              "      <th></th>\n",
              "      <th>Go.</th>\n",
              "      <th>Va !</th>\n",
              "    </tr>\n",
              "  </thead>\n",
              "  <tbody>\n",
              "    <tr>\n",
              "      <th>0</th>\n",
              "      <td>Run!</td>\n",
              "      <td>Cours !</td>\n",
              "    </tr>\n",
              "    <tr>\n",
              "      <th>1</th>\n",
              "      <td>Run!</td>\n",
              "      <td>Courez !</td>\n",
              "    </tr>\n",
              "    <tr>\n",
              "      <th>2</th>\n",
              "      <td>Wow!</td>\n",
              "      <td>Ça alors !</td>\n",
              "    </tr>\n",
              "    <tr>\n",
              "      <th>3</th>\n",
              "      <td>Fire!</td>\n",
              "      <td>Au feu !</td>\n",
              "    </tr>\n",
              "    <tr>\n",
              "      <th>4</th>\n",
              "      <td>Help!</td>\n",
              "      <td>À l'aide !</td>\n",
              "    </tr>\n",
              "    <tr>\n",
              "      <th>5</th>\n",
              "      <td>Jump.</td>\n",
              "      <td>Saute.</td>\n",
              "    </tr>\n",
              "    <tr>\n",
              "      <th>6</th>\n",
              "      <td>Stop!</td>\n",
              "      <td>Ça suffit !</td>\n",
              "    </tr>\n",
              "    <tr>\n",
              "      <th>7</th>\n",
              "      <td>Stop!</td>\n",
              "      <td>Stop !</td>\n",
              "    </tr>\n",
              "    <tr>\n",
              "      <th>8</th>\n",
              "      <td>Stop!</td>\n",
              "      <td>Arrête-toi !</td>\n",
              "    </tr>\n",
              "    <tr>\n",
              "      <th>9</th>\n",
              "      <td>Wait!</td>\n",
              "      <td>Attends !</td>\n",
              "    </tr>\n",
              "  </tbody>\n",
              "</table>\n",
              "</div>"
            ],
            "text/plain": [
              "     Go.          Va !\n",
              "0   Run!       Cours !\n",
              "1   Run!      Courez !\n",
              "2   Wow!    Ça alors !\n",
              "3  Fire!      Au feu !\n",
              "4  Help!    À l'aide !\n",
              "5  Jump.        Saute.\n",
              "6  Stop!   Ça suffit !\n",
              "7  Stop!        Stop !\n",
              "8  Stop!  Arrête-toi !\n",
              "9  Wait!     Attends !"
            ]
          },
          "metadata": {
            "tags": []
          },
          "execution_count": 10
        }
      ]
    },
    {
      "cell_type": "code",
      "metadata": {
        "id": "RMevsH5STVJO",
        "colab_type": "code",
        "colab": {}
      },
      "source": [
        "del df"
      ],
      "execution_count": 0,
      "outputs": []
    },
    {
      "cell_type": "code",
      "metadata": {
        "id": "6hagMTXLTjbf",
        "colab_type": "code",
        "colab": {}
      },
      "source": [
        ""
      ],
      "execution_count": 0,
      "outputs": []
    },
    {
      "cell_type": "markdown",
      "metadata": {
        "id": "utl126IdTlpe",
        "colab_type": "text"
      },
      "source": [
        "**Vactorizing data**"
      ]
    },
    {
      "cell_type": "code",
      "metadata": {
        "id": "1sRhLhV_Tp4_",
        "colab_type": "code",
        "colab": {
          "base_uri": "https://localhost:8080/",
          "height": 34
        },
        "outputId": "87be9fab-fa59-45be-eb75-6f93742dd897"
      },
      "source": [
        "input_texts = []\n",
        "target_texts = []\n",
        "input_characters = set()\n",
        "target_characters = set()\n",
        "\n",
        "# Loop over lines\n",
        "lines = open(data).read().split('\\n')\n",
        "for line in lines[: min(num_samples, len(lines) - 1)]:\n",
        "  # Input and target are split by tabs\n",
        "    # English TAB French\n",
        "    input_text, target_text = line.split('\\t')\n",
        "    \n",
        "    # We use \"tab\" as the \"start sequence\" character\n",
        "    # for the targets, and \"\\n\" as \"end sequence\" character.\n",
        "    target_text = '\\t' + target_text + '\\n'\n",
        "    input_texts.append(input_text)\n",
        "    target_texts.append(target_text)\n",
        "    # Create a set of all unique characters in the input\n",
        "    for char in input_text:\n",
        "        if char not in input_characters:\n",
        "            input_characters.add(char)\n",
        "            \n",
        "    # Create a set of all unique output characters\n",
        "    for char in target_text:\n",
        "        if char not in target_characters:\n",
        "            target_characters.add(char)\n",
        "\n",
        "print('Number of samples:', len(input_texts))\n",
        "\n",
        "\n",
        "    \n",
        "  \n",
        "  "
      ],
      "execution_count": 15,
      "outputs": [
        {
          "output_type": "stream",
          "text": [
            "Number of samples: 10000\n"
          ],
          "name": "stdout"
        }
      ]
    },
    {
      "cell_type": "code",
      "metadata": {
        "id": "nF8stZYRVLFM",
        "colab_type": "code",
        "colab": {
          "base_uri": "https://localhost:8080/",
          "height": 50
        },
        "outputId": "98882a4c-0978-4e32-dd51-42cbe85dd86b"
      },
      "source": [
        "input_characters = sorted(list(input_characters)) # Make sure we achieve the same order in our input chars\n",
        "\n",
        "target_characters = sorted(list(target_characters))\n",
        "\n",
        "num_encoder_tokens = len(input_characters) # size of the english alphabate + numbers + signs etc\n",
        "num_decoder_tokens = len(target_characters) # size of the french alpahbate+ numbers, signs etc\n",
        "\n",
        "print('Number of unique input tokens:', num_encoder_tokens)\n",
        "print('Number of unique output tokens:', num_decoder_tokens)"
      ],
      "execution_count": 16,
      "outputs": [
        {
          "output_type": "stream",
          "text": [
            "Number of unique input tokens: 71\n",
            "Number of unique output tokens: 93\n"
          ],
          "name": "stdout"
        }
      ]
    },
    {
      "cell_type": "code",
      "metadata": {
        "id": "hR2F6in5WvIk",
        "colab_type": "code",
        "colab": {}
      },
      "source": [
        "# workds as similar to tokenizer\n",
        "# the index maps a character to a number\n",
        "input_token_index = {char: i for i, char in enumerate(input_characters)}\n",
        "target_token_index = {char: i for i, char in enumerate(target_characters)}"
      ],
      "execution_count": 0,
      "outputs": []
    },
    {
      "cell_type": "code",
      "metadata": {
        "id": "794M7DJuXC-U",
        "colab_type": "code",
        "colab": {
          "base_uri": "https://localhost:8080/",
          "height": 34
        },
        "outputId": "ccb7266f-50b7-4370-f21b-7d7f40f9dd4b"
      },
      "source": [
        "# Demo character tokenization\n",
        "for c in 'the cat sits on the mat':\n",
        "  print(input_token_index[c], end= ' ')"
      ],
      "execution_count": 18,
      "outputs": [
        {
          "output_type": "stream",
          "text": [
            "63 51 48 0 46 44 63 0 62 52 63 62 0 58 57 0 63 51 48 0 56 44 63 "
          ],
          "name": "stdout"
        }
      ]
    },
    {
      "cell_type": "code",
      "metadata": {
        "id": "w5DCKU_qXOeQ",
        "colab_type": "code",
        "colab": {
          "base_uri": "https://localhost:8080/",
          "height": 50
        },
        "outputId": "effede01-7db1-4e75-8e96-11fd9e85d80c"
      },
      "source": [
        "max_encoder_seq_length = max([len(txt) for txt in input_texts]) # Get longest sequence length\n",
        "max_decoder_seq_length = max([len(txt) for txt in target_texts])\n",
        "\n",
        "print('Max sequence length for inputs:', max_encoder_seq_length)\n",
        "print('Max sequence length for outputs:', max_decoder_seq_length)"
      ],
      "execution_count": 19,
      "outputs": [
        {
          "output_type": "stream",
          "text": [
            "Max sequence length for inputs: 16\n",
            "Max sequence length for outputs: 59\n"
          ],
          "name": "stdout"
        }
      ]
    },
    {
      "cell_type": "code",
      "metadata": {
        "id": "D7hGbpcKXsAq",
        "colab_type": "code",
        "colab": {}
      },
      "source": [
        "# encoder_input_data is a 3D array of shape (num_pairs, max_english_sentence_length, num_english_characters) \n",
        "# containing a one-hot vectorization of the English sentences.\n",
        "\n",
        "encoder_input_data = np.zeros(\n",
        "\n",
        "    (len(input_texts), max_encoder_seq_length, num_encoder_tokens),\n",
        "    dtype='float32'\n",
        ")\n",
        "\n",
        "# decoder_input_data is a 3D array of shape (num_pairs, max_french_sentence_length, num_french_characters) \n",
        "# containg a one-hot vectorization of the French sentences.\n",
        "\n",
        "decoder_input_data = np.zeros(\n",
        "\n",
        "    (len(input_texts), max_decoder_seq_length, num_decoder_tokens),\n",
        "    dtype='float32'\n",
        ")\n",
        "# decoder_target_data is the same as decoder_input_data but offset by one timestep. \n",
        "# decoder_target_data[:, t, :] will be the same as decoder_input_data[:, t + 1, :]\n",
        "decoder_target_data = np.zeros(\n",
        "\n",
        "    (len(input_texts), max_decoder_seq_length, num_decoder_tokens),\n",
        "    dtype= 'float32'\n",
        " )\n"
      ],
      "execution_count": 0,
      "outputs": []
    },
    {
      "cell_type": "code",
      "metadata": {
        "id": "H1IRTG2bZGFz",
        "colab_type": "code",
        "colab": {}
      },
      "source": [
        "# Loop over input texts\n",
        "for i, (input_text, target_text) in enumerate(zip(input_texts, target_texts)):\n",
        "  # Loop over each char in an input text\n",
        "  for t, char in enumerate(input_text):\n",
        "    \n",
        "    encoder_input_data[i, t, input_token_index[char]] = 1\n",
        "    \n",
        "    for t, char in enumerate(target_text):\n",
        "      \n",
        "      # decoder_target_data is ahead of decoder_input_data by one timestamp\n",
        "      decoder_input_data[i, t, target_token_index[char]] =1\n",
        "      \n",
        "      if t>0:\n",
        "        decoder_target_data[i, t-1, target_token_index[char]]=1\n",
        "      "
      ],
      "execution_count": 0,
      "outputs": []
    },
    {
      "cell_type": "code",
      "metadata": {
        "id": "m7iatKLaZ4E1",
        "colab_type": "code",
        "colab": {
          "base_uri": "https://localhost:8080/",
          "height": 70
        },
        "outputId": "035648a8-b690-45d4-88f9-63a882d398a6"
      },
      "source": [
        "# Define input sequence and process it\n",
        "\n",
        "latent_dim = 256\n",
        "\n",
        "encoder_inputs = Input(shape=(None, num_encoder_tokens), \n",
        "                       name = 'encoder_inputs')\n",
        "\n",
        "# The return_state contructor argument, configuring a RNN layer to return a list \n",
        "# where the first entry is the outputs and the next entries are the internal RNN states. \n",
        "# This is used to recover the states of the encoder.\n",
        "encoder = CuDNNLSTM(latent_dim, \n",
        "                    return_state=True, \n",
        "                    name = 'encoder')\n",
        "\n",
        "encoder_outputs, state_h, state_c = encoder(encoder_inputs)\n",
        "# We discard `encoder_outputs` and only keep the states.\n",
        "encoder_states = [state_h, state_c]\n",
        "\n",
        "# Set up the decoder, using `encoder_states` as initial state.\n",
        "decoder_inputs = Input(shape=(None, num_decoder_tokens), \n",
        "                       name = 'decoder_inputs')\n",
        "\n",
        "# We set up our decoder to return full output sequences,\n",
        "# and to return internal states as well. We don't use the\n",
        "# return states in the training model, but we will use them in inference.\n",
        "decoder_lstm = CuDNNLSTM(latent_dim, \n",
        "                         return_sequences=True, \n",
        "                         return_state=True, \n",
        "                         name = 'decoder_lstm')\n",
        "# The inital_state call argument, specifying the initial state(s) of a RNN. \n",
        "# This is used to pass the encoder states to the decoder as initial states.\n",
        "# Basically making the first memory of the decoder the encoded semantics\n",
        "decoder_outputs, _, _ = decoder_lstm(decoder_inputs,\n",
        "                                     initial_state=encoder_states)\n",
        "\n",
        "decoder_dense = Dense(num_decoder_tokens, \n",
        "                      activation='softmax', \n",
        "                      name = 'decoder_dense')\n",
        "decoder_outputs = decoder_dense(decoder_outputs)\n",
        "\n",
        "# Define the model that will turn\n",
        "# `encoder_input_data` & `decoder_input_data` into `decoder_target_data`\n",
        "model = Model([encoder_inputs, decoder_inputs], decoder_outputs)\n",
        "\n",
        "\n",
        "\n",
        "\n",
        "\n",
        "\n",
        "\n",
        "                    "
      ],
      "execution_count": 24,
      "outputs": [
        {
          "output_type": "stream",
          "text": [
            "W0729 06:34:15.933761 140384830613376 deprecation_wrapper.py:119] From /usr/local/lib/python3.6/dist-packages/keras/backend/tensorflow_backend.py:74: The name tf.get_default_graph is deprecated. Please use tf.compat.v1.get_default_graph instead.\n",
            "\n"
          ],
          "name": "stderr"
        }
      ]
    },
    {
      "cell_type": "code",
      "metadata": {
        "id": "L5kP0gjabFZ4",
        "colab_type": "code",
        "colab": {
          "base_uri": "https://localhost:8080/",
          "height": 1000
        },
        "outputId": "af1b6ca1-a5a3-4838-b616-8e77d6ddb870"
      },
      "source": [
        "# Run training\n",
        "model.compile(optimizer='rmsprop',\n",
        "             loss='categorical_crossentropy')\n",
        "history = model.fit([encoder_input_data, decoder_input_data],\n",
        "                   decoder_target_data,\n",
        "                   batch_size=batch_size,\n",
        "                   epochs = epochs,\n",
        "                   validation_split = 0.2)"
      ],
      "execution_count": 25,
      "outputs": [
        {
          "output_type": "stream",
          "text": [
            "W0729 06:36:10.981978 140384830613376 deprecation_wrapper.py:119] From /usr/local/lib/python3.6/dist-packages/keras/optimizers.py:790: The name tf.train.Optimizer is deprecated. Please use tf.compat.v1.train.Optimizer instead.\n",
            "\n",
            "W0729 06:36:11.006561 140384830613376 deprecation_wrapper.py:119] From /usr/local/lib/python3.6/dist-packages/keras/backend/tensorflow_backend.py:3295: The name tf.log is deprecated. Please use tf.math.log instead.\n",
            "\n",
            "W0729 06:36:11.127177 140384830613376 deprecation.py:323] From /usr/local/lib/python3.6/dist-packages/tensorflow/python/ops/math_grad.py:1250: add_dispatch_support.<locals>.wrapper (from tensorflow.python.ops.array_ops) is deprecated and will be removed in a future version.\n",
            "Instructions for updating:\n",
            "Use tf.where in 2.0, which has the same broadcast rule as np.where\n",
            "W0729 06:36:11.426393 140384830613376 deprecation_wrapper.py:119] From /usr/local/lib/python3.6/dist-packages/keras/backend/tensorflow_backend.py:986: The name tf.assign_add is deprecated. Please use tf.compat.v1.assign_add instead.\n",
            "\n"
          ],
          "name": "stderr"
        },
        {
          "output_type": "stream",
          "text": [
            "Train on 8000 samples, validate on 2000 samples\n",
            "Epoch 1/100\n",
            "8000/8000 [==============================] - 10s 1ms/step - loss: 0.9274 - val_loss: 0.9817\n",
            "Epoch 2/100\n",
            "8000/8000 [==============================] - 2s 216us/step - loss: 0.7432 - val_loss: 0.8001\n",
            "Epoch 3/100\n",
            "8000/8000 [==============================] - 2s 212us/step - loss: 0.6286 - val_loss: 0.7200\n",
            "Epoch 4/100\n",
            "8000/8000 [==============================] - 2s 216us/step - loss: 0.5722 - val_loss: 0.6641\n",
            "Epoch 5/100\n",
            "8000/8000 [==============================] - 2s 212us/step - loss: 0.5303 - val_loss: 0.6300\n",
            "Epoch 6/100\n",
            "8000/8000 [==============================] - 2s 211us/step - loss: 0.4982 - val_loss: 0.6140\n",
            "Epoch 7/100\n",
            "8000/8000 [==============================] - 2s 213us/step - loss: 0.4730 - val_loss: 0.5886\n",
            "Epoch 8/100\n",
            "8000/8000 [==============================] - 2s 214us/step - loss: 0.4508 - val_loss: 0.5748\n",
            "Epoch 9/100\n",
            "8000/8000 [==============================] - 2s 214us/step - loss: 0.4313 - val_loss: 0.5614\n",
            "Epoch 10/100\n",
            "8000/8000 [==============================] - 2s 212us/step - loss: 0.4137 - val_loss: 0.5415\n",
            "Epoch 11/100\n",
            "8000/8000 [==============================] - 2s 215us/step - loss: 0.3981 - val_loss: 0.5354\n",
            "Epoch 12/100\n",
            "8000/8000 [==============================] - 2s 213us/step - loss: 0.3832 - val_loss: 0.5205\n",
            "Epoch 13/100\n",
            "8000/8000 [==============================] - 2s 212us/step - loss: 0.3697 - val_loss: 0.5184\n",
            "Epoch 14/100\n",
            "8000/8000 [==============================] - 2s 211us/step - loss: 0.3569 - val_loss: 0.5146\n",
            "Epoch 15/100\n",
            "8000/8000 [==============================] - 2s 212us/step - loss: 0.3448 - val_loss: 0.5057\n",
            "Epoch 16/100\n",
            "8000/8000 [==============================] - 2s 213us/step - loss: 0.3336 - val_loss: 0.4983\n",
            "Epoch 17/100\n",
            "8000/8000 [==============================] - 2s 213us/step - loss: 0.3223 - val_loss: 0.4946\n",
            "Epoch 18/100\n",
            "8000/8000 [==============================] - 2s 213us/step - loss: 0.3121 - val_loss: 0.4927\n",
            "Epoch 19/100\n",
            "8000/8000 [==============================] - 2s 211us/step - loss: 0.3025 - val_loss: 0.4925\n",
            "Epoch 20/100\n",
            "8000/8000 [==============================] - 2s 213us/step - loss: 0.2934 - val_loss: 0.4907\n",
            "Epoch 21/100\n",
            "8000/8000 [==============================] - 2s 214us/step - loss: 0.2840 - val_loss: 0.4872\n",
            "Epoch 22/100\n",
            "8000/8000 [==============================] - 2s 214us/step - loss: 0.2756 - val_loss: 0.4852\n",
            "Epoch 23/100\n",
            "8000/8000 [==============================] - 2s 216us/step - loss: 0.2672 - val_loss: 0.4822\n",
            "Epoch 24/100\n",
            "8000/8000 [==============================] - 2s 214us/step - loss: 0.2597 - val_loss: 0.4865\n",
            "Epoch 25/100\n",
            "8000/8000 [==============================] - 2s 214us/step - loss: 0.2514 - val_loss: 0.4862\n",
            "Epoch 26/100\n",
            "8000/8000 [==============================] - 2s 214us/step - loss: 0.2449 - val_loss: 0.4878\n",
            "Epoch 27/100\n",
            "8000/8000 [==============================] - 2s 217us/step - loss: 0.2375 - val_loss: 0.4864\n",
            "Epoch 28/100\n",
            "8000/8000 [==============================] - 2s 213us/step - loss: 0.2309 - val_loss: 0.4915\n",
            "Epoch 29/100\n",
            "8000/8000 [==============================] - 2s 213us/step - loss: 0.2246 - val_loss: 0.4954\n",
            "Epoch 30/100\n",
            "8000/8000 [==============================] - 2s 212us/step - loss: 0.2183 - val_loss: 0.4946\n",
            "Epoch 31/100\n",
            "8000/8000 [==============================] - 2s 212us/step - loss: 0.2121 - val_loss: 0.4979\n",
            "Epoch 32/100\n",
            "8000/8000 [==============================] - 2s 214us/step - loss: 0.2066 - val_loss: 0.5061\n",
            "Epoch 33/100\n",
            "8000/8000 [==============================] - 2s 213us/step - loss: 0.2008 - val_loss: 0.5047\n",
            "Epoch 34/100\n",
            "8000/8000 [==============================] - 2s 212us/step - loss: 0.1959 - val_loss: 0.5104\n",
            "Epoch 35/100\n",
            "8000/8000 [==============================] - 2s 213us/step - loss: 0.1906 - val_loss: 0.5141\n",
            "Epoch 36/100\n",
            "8000/8000 [==============================] - 2s 213us/step - loss: 0.1855 - val_loss: 0.5118\n",
            "Epoch 37/100\n",
            "8000/8000 [==============================] - 2s 215us/step - loss: 0.1811 - val_loss: 0.5185\n",
            "Epoch 38/100\n",
            "8000/8000 [==============================] - 2s 212us/step - loss: 0.1762 - val_loss: 0.5205\n",
            "Epoch 39/100\n",
            "8000/8000 [==============================] - 2s 213us/step - loss: 0.1719 - val_loss: 0.5259\n",
            "Epoch 40/100\n",
            "8000/8000 [==============================] - 2s 213us/step - loss: 0.1677 - val_loss: 0.5360\n",
            "Epoch 41/100\n",
            "8000/8000 [==============================] - 2s 212us/step - loss: 0.1632 - val_loss: 0.5373\n",
            "Epoch 42/100\n",
            "8000/8000 [==============================] - 2s 212us/step - loss: 0.1594 - val_loss: 0.5428\n",
            "Epoch 43/100\n",
            "8000/8000 [==============================] - 2s 212us/step - loss: 0.1555 - val_loss: 0.5396\n",
            "Epoch 44/100\n",
            "8000/8000 [==============================] - 2s 214us/step - loss: 0.1522 - val_loss: 0.5506\n",
            "Epoch 45/100\n",
            "8000/8000 [==============================] - 2s 213us/step - loss: 0.1483 - val_loss: 0.5583\n",
            "Epoch 46/100\n",
            "8000/8000 [==============================] - 2s 215us/step - loss: 0.1450 - val_loss: 0.5626\n",
            "Epoch 47/100\n",
            "8000/8000 [==============================] - 2s 213us/step - loss: 0.1416 - val_loss: 0.5642\n",
            "Epoch 48/100\n",
            "8000/8000 [==============================] - 2s 211us/step - loss: 0.1383 - val_loss: 0.5711\n",
            "Epoch 49/100\n",
            "8000/8000 [==============================] - 2s 212us/step - loss: 0.1355 - val_loss: 0.5744\n",
            "Epoch 50/100\n",
            "8000/8000 [==============================] - 2s 213us/step - loss: 0.1320 - val_loss: 0.5749\n",
            "Epoch 51/100\n",
            "8000/8000 [==============================] - 2s 212us/step - loss: 0.1291 - val_loss: 0.5839\n",
            "Epoch 52/100\n",
            "8000/8000 [==============================] - 2s 211us/step - loss: 0.1264 - val_loss: 0.5891\n",
            "Epoch 53/100\n",
            "8000/8000 [==============================] - 2s 213us/step - loss: 0.1236 - val_loss: 0.5911\n",
            "Epoch 54/100\n",
            "8000/8000 [==============================] - 2s 212us/step - loss: 0.1212 - val_loss: 0.6007\n",
            "Epoch 55/100\n",
            "8000/8000 [==============================] - 2s 213us/step - loss: 0.1185 - val_loss: 0.6042\n",
            "Epoch 56/100\n",
            "8000/8000 [==============================] - 2s 212us/step - loss: 0.1161 - val_loss: 0.6084\n",
            "Epoch 57/100\n",
            "8000/8000 [==============================] - 2s 213us/step - loss: 0.1138 - val_loss: 0.6157\n",
            "Epoch 58/100\n",
            "8000/8000 [==============================] - 2s 214us/step - loss: 0.1117 - val_loss: 0.6115\n",
            "Epoch 59/100\n",
            "8000/8000 [==============================] - 2s 214us/step - loss: 0.1094 - val_loss: 0.6129\n",
            "Epoch 60/100\n",
            "8000/8000 [==============================] - 2s 212us/step - loss: 0.1071 - val_loss: 0.6293\n",
            "Epoch 61/100\n",
            "8000/8000 [==============================] - 2s 213us/step - loss: 0.1049 - val_loss: 0.6324\n",
            "Epoch 62/100\n",
            "8000/8000 [==============================] - 2s 216us/step - loss: 0.1028 - val_loss: 0.6346\n",
            "Epoch 63/100\n",
            "8000/8000 [==============================] - 2s 215us/step - loss: 0.1010 - val_loss: 0.6360\n",
            "Epoch 64/100\n",
            "8000/8000 [==============================] - 2s 214us/step - loss: 0.0993 - val_loss: 0.6446\n",
            "Epoch 65/100\n",
            "8000/8000 [==============================] - 2s 212us/step - loss: 0.0970 - val_loss: 0.6481\n",
            "Epoch 66/100\n",
            "8000/8000 [==============================] - 2s 211us/step - loss: 0.0953 - val_loss: 0.6509\n",
            "Epoch 67/100\n",
            "8000/8000 [==============================] - 2s 211us/step - loss: 0.0933 - val_loss: 0.6565\n",
            "Epoch 68/100\n",
            "8000/8000 [==============================] - 2s 213us/step - loss: 0.0917 - val_loss: 0.6575\n",
            "Epoch 69/100\n",
            "8000/8000 [==============================] - 2s 212us/step - loss: 0.0902 - val_loss: 0.6632\n",
            "Epoch 70/100\n",
            "8000/8000 [==============================] - 2s 214us/step - loss: 0.0884 - val_loss: 0.6703\n",
            "Epoch 71/100\n",
            "8000/8000 [==============================] - 2s 213us/step - loss: 0.0870 - val_loss: 0.6732\n",
            "Epoch 72/100\n",
            "8000/8000 [==============================] - 2s 212us/step - loss: 0.0855 - val_loss: 0.6776\n",
            "Epoch 73/100\n",
            "8000/8000 [==============================] - 2s 214us/step - loss: 0.0841 - val_loss: 0.6824\n",
            "Epoch 74/100\n",
            "8000/8000 [==============================] - 2s 213us/step - loss: 0.0822 - val_loss: 0.6875\n",
            "Epoch 75/100\n",
            "8000/8000 [==============================] - 2s 215us/step - loss: 0.0808 - val_loss: 0.6910\n",
            "Epoch 76/100\n",
            "8000/8000 [==============================] - 2s 214us/step - loss: 0.0796 - val_loss: 0.7021\n",
            "Epoch 77/100\n",
            "8000/8000 [==============================] - 2s 214us/step - loss: 0.0781 - val_loss: 0.7009\n",
            "Epoch 78/100\n",
            "8000/8000 [==============================] - 2s 212us/step - loss: 0.0772 - val_loss: 0.7060\n",
            "Epoch 79/100\n",
            "8000/8000 [==============================] - 2s 212us/step - loss: 0.0757 - val_loss: 0.7096\n",
            "Epoch 80/100\n",
            "8000/8000 [==============================] - 2s 214us/step - loss: 0.0744 - val_loss: 0.7137\n",
            "Epoch 81/100\n",
            "8000/8000 [==============================] - 2s 215us/step - loss: 0.0732 - val_loss: 0.7218\n",
            "Epoch 82/100\n",
            "8000/8000 [==============================] - 2s 215us/step - loss: 0.0721 - val_loss: 0.7161\n",
            "Epoch 83/100\n",
            "8000/8000 [==============================] - 2s 212us/step - loss: 0.0710 - val_loss: 0.7218\n",
            "Epoch 84/100\n",
            "8000/8000 [==============================] - 2s 210us/step - loss: 0.0698 - val_loss: 0.7295\n",
            "Epoch 85/100\n",
            "8000/8000 [==============================] - 2s 213us/step - loss: 0.0687 - val_loss: 0.7317\n",
            "Epoch 86/100\n",
            "8000/8000 [==============================] - 2s 212us/step - loss: 0.0676 - val_loss: 0.7367\n",
            "Epoch 87/100\n",
            "8000/8000 [==============================] - 2s 212us/step - loss: 0.0666 - val_loss: 0.7408\n",
            "Epoch 88/100\n",
            "8000/8000 [==============================] - 2s 212us/step - loss: 0.0656 - val_loss: 0.7475\n",
            "Epoch 89/100\n",
            "8000/8000 [==============================] - 2s 212us/step - loss: 0.0645 - val_loss: 0.7498\n",
            "Epoch 90/100\n",
            "8000/8000 [==============================] - 2s 214us/step - loss: 0.0636 - val_loss: 0.7492\n",
            "Epoch 91/100\n",
            "8000/8000 [==============================] - 2s 211us/step - loss: 0.0625 - val_loss: 0.7551\n",
            "Epoch 92/100\n",
            "8000/8000 [==============================] - 2s 213us/step - loss: 0.0617 - val_loss: 0.7598\n",
            "Epoch 93/100\n",
            "8000/8000 [==============================] - 2s 215us/step - loss: 0.0610 - val_loss: 0.7598\n",
            "Epoch 94/100\n",
            "8000/8000 [==============================] - 2s 212us/step - loss: 0.0602 - val_loss: 0.7650\n",
            "Epoch 95/100\n",
            "8000/8000 [==============================] - 2s 213us/step - loss: 0.0593 - val_loss: 0.7599\n",
            "Epoch 96/100\n",
            "8000/8000 [==============================] - 2s 214us/step - loss: 0.0585 - val_loss: 0.7701\n",
            "Epoch 97/100\n",
            "8000/8000 [==============================] - 2s 213us/step - loss: 0.0577 - val_loss: 0.7705\n",
            "Epoch 98/100\n",
            "8000/8000 [==============================] - 2s 213us/step - loss: 0.0567 - val_loss: 0.7738\n",
            "Epoch 99/100\n",
            "8000/8000 [==============================] - 2s 214us/step - loss: 0.0562 - val_loss: 0.7766\n",
            "Epoch 100/100\n",
            "8000/8000 [==============================] - 2s 211us/step - loss: 0.0553 - val_loss: 0.7757\n"
          ],
          "name": "stdout"
        }
      ]
    },
    {
      "cell_type": "code",
      "metadata": {
        "id": "hJcm2kB2cZWl",
        "colab_type": "code",
        "colab": {}
      },
      "source": [
        ""
      ],
      "execution_count": 0,
      "outputs": []
    },
    {
      "cell_type": "markdown",
      "metadata": {
        "id": "JVVf31vrdlUN",
        "colab_type": "text"
      },
      "source": [
        "Evaluate the Model"
      ]
    },
    {
      "cell_type": "code",
      "metadata": {
        "id": "V8B26-7mdnmK",
        "colab_type": "code",
        "colab": {
          "base_uri": "https://localhost:8080/",
          "height": 432
        },
        "outputId": "b1237f0a-eae7-42f1-f540-be07d232f68a"
      },
      "source": [
        "import matplotlib.pyplot as plt\n",
        "%matplotlib inline\n",
        "plt.figure(figsize=(10,7))\n",
        "a, = plt.plot(history.history['loss'], label='Training loss')\n",
        "b, = plt.plot(history.history['val_loss'],label='Validation loss')\n",
        "plt.legend(handles = [a,b])\n",
        "plt.show()"
      ],
      "execution_count": 26,
      "outputs": [
        {
          "output_type": "display_data",
          "data": {
            "image/png": "[encoded data removed]",
            "text/plain": [
              "<Figure size 720x504 with 1 Axes>"
            ]
          },
          "metadata": {
            "tags": []
          }
        }
      ]
    },
    {
      "cell_type": "code",
      "metadata": {
        "id": "yAorJ5s9eA7T",
        "colab_type": "code",
        "colab": {}
      },
      "source": [
        "# Define encoder model\n",
        "encoder_model = Model(encoder_inputs, encoder_states)"
      ],
      "execution_count": 0,
      "outputs": []
    },
    {
      "cell_type": "code",
      "metadata": {
        "id": "ZD-Yi64reKTt",
        "colab_type": "code",
        "colab": {}
      },
      "source": [
        "# Define decoder model\n",
        "decoder_state_input_h = Input(shape=(latent_dim,))\n",
        "decoder_state_input_c = Input(shape=(latent_dim,))\n",
        "\n",
        "# Create a combined memory to input into the decoder\n",
        "decoder_states_inputs = [decoder_state_input_h, decoder_state_input_c]\n",
        "\n",
        "# Decoder\n",
        "decoder_outputs, state_h, state_c = decoder_lstm(\n",
        "\n",
        "    decoder_inputs, initial_state = decoder_states_inputs\n",
        ")\n",
        "decoder_states = [state_h, state_c]\n",
        "\n",
        "# Predict next char\n",
        "decoder_outputs = decoder_dense(decoder_outputs)\n",
        "\n",
        "# The model takes in the encoder memory plus it's own memory as an input and spits out \n",
        "# a prediction plus its own memory to be used for the next char\n",
        "\n",
        "decoder_model = Model([decoder_inputs] + decoder_states_inputs,\n",
        "                     [decoder_outputs] + decoder_states)"
      ],
      "execution_count": 0,
      "outputs": []
    },
    {
      "cell_type": "code",
      "metadata": {
        "id": "VKdwHVa8fAKT",
        "colab_type": "code",
        "colab": {}
      },
      "source": [
        "# Reverse-lookup token index to decode sequences back to \n",
        "reverse_input_char_index = {i: char for char,\n",
        "                           i in input_token_index.items()}\n",
        "reverse_target_char_index = {i: char for char, i in target_token_index.items()}\n",
        "\n"
      ],
      "execution_count": 0,
      "outputs": []
    },
    {
      "cell_type": "code",
      "metadata": {
        "id": "wrXFN_snfYrP",
        "colab_type": "code",
        "colab": {}
      },
      "source": [
        "def decode_sequence(input_seq):\n",
        "    # Encode the input as state vectors.\n",
        "    states_value = encoder_model.predict(input_seq)\n",
        "\n",
        "    # Generate empty target sequence of length 1.\n",
        "    target_seq = np.zeros((1, 1, num_decoder_tokens))\n",
        "    # Populate the first character of target sequence with the start character.\n",
        "    target_seq[0, 0, target_token_index['\\t']] = 1.\n",
        "    # Sampling loop for a batch of sequences\n",
        "    # (to simplify, here we assume a batch of size 1).\n",
        "    stop_condition = False\n",
        "    decoded_sentence = ''\n",
        "    \n",
        "    # Loop untill we recieve a stop sign\n",
        "    while not stop_condition:\n",
        "        # Get output and internal states of the decoder \n",
        "        output_tokens, h, c = decoder_model.predict(\n",
        "            [target_seq] + states_value)\n",
        "        \n",
        "        # Get the predicted token (the token with the highest score)\n",
        "        sampled_token_index = np.argmax(output_tokens[0, -1, :])\n",
        "        # Get the character belonging to the token\n",
        "        sampled_char = reverse_target_char_index[sampled_token_index]\n",
        "        # Append char to output\n",
        "        decoded_sentence += sampled_char\n",
        "        \n",
        "        # Exit condition: either hit max length\n",
        "        # or find stop character.\n",
        "        if (sampled_char == '\\n' or\n",
        "           len(decoded_sentence) > max_decoder_seq_length):\n",
        "            stop_condition = True\n",
        "\n",
        "        # Update the target sequence (of length 1).\n",
        "        target_seq = np.zeros((1, 1, num_decoder_tokens))\n",
        "        target_seq[0, 0, sampled_token_index] = 1.\n",
        "        \n",
        "        # Update states\n",
        "        states_value = [h, c]\n",
        "\n",
        "    return decoded_sentence\n",
        "\n",
        "\n",
        "\n",
        "\n",
        "        \n",
        "\n",
        "    \n",
        "    \n",
        "    "
      ],
      "execution_count": 0,
      "outputs": []
    },
    {
      "cell_type": "code",
      "metadata": {
        "id": "M4I0oJw4hxbh",
        "colab_type": "code",
        "colab": {}
      },
      "source": [
        "my_text = 'Thanks'\n",
        "placeholder = np.zeros((1, len(my_text)+10, num_encoder_tokens))\n"
      ],
      "execution_count": 0,
      "outputs": []
    },
    {
      "cell_type": "code",
      "metadata": {
        "id": "QM8FHy_ujDOO",
        "colab_type": "code",
        "colab": {}
      },
      "source": [
        ""
      ],
      "execution_count": 0,
      "outputs": []
    },
    {
      "cell_type": "code",
      "metadata": {
        "id": "KXVXBsGeh-Y2",
        "colab_type": "code",
        "colab": {
          "base_uri": "https://localhost:8080/",
          "height": 118
        },
        "outputId": "77d058c2-1d94-4cdd-9d57-9378fc3970b0"
      },
      "source": [
        "for i, char in enumerate(my_text):\n",
        "  print(i, char, input_token_index[char])\n",
        "  placeholder[0,i,input_token_index[char]] = 1"
      ],
      "execution_count": 40,
      "outputs": [
        {
          "output_type": "stream",
          "text": [
            "0 T 38\n",
            "1 h 51\n",
            "2 a 44\n",
            "3 n 57\n",
            "4 k 54\n",
            "5 s 62\n"
          ],
          "name": "stdout"
        }
      ]
    },
    {
      "cell_type": "code",
      "metadata": {
        "id": "zAyCIKobiLA9",
        "colab_type": "code",
        "colab": {
          "base_uri": "https://localhost:8080/",
          "height": 34
        },
        "outputId": "884ee1a0-53f3-427d-d62f-de76e5c0bf82"
      },
      "source": [
        "decode_sequence(placeholder)"
      ],
      "execution_count": 41,
      "outputs": [
        {
          "output_type": "execute_result",
          "data": {
            "text/plain": [
              "'Merci !\\n'"
            ]
          },
          "metadata": {
            "tags": []
          },
          "execution_count": 41
        }
      ]
    },
    {
      "cell_type": "code",
      "metadata": {
        "id": "gHz2mj3siSYS",
        "colab_type": "code",
        "colab": {}
      },
      "source": [
        ""
      ],
      "execution_count": 0,
      "outputs": []
    }
  ]
}